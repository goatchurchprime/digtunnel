{
 "cells": [
  {
   "cell_type": "code",
   "execution_count": 2,
   "metadata": {},
   "outputs": [
    {
     "name": "stdout",
     "output_type": "stream",
     "text": [
      "['dukest1resurvey2009.json', 'smallirebysave.res', 'dukest1resurvey2009.tscn', '0_917647_0_917647_0_917647_0_000000.material', 'dukest1resurvey2009.3d', 'parse3D_work.ipynb', 'picturepalace2.gltf', 'LambTrap-drawnup-1.png', 'LargePot', '0_980392_0_713725_0_003922_0_000000.material', 'dukest1resurvey2009.gltf', 'scanimagefloor.material', 'skirwith', 'LambTrap-drawnup-1.png.import', '0_498039_0_498039_0_498039_0_000000.material', 'picturehouse.glb.import', '0_615686_0_811765_0_929412_0_000000.material', 'picturepalace.gltf', '.ipynb_checkpoints', 'wingform', '0_972549_0_529412_0_003922_0_000000.material', '0_647059_0_647059_0_647059_0_000000.material', '__pycache__', '0_729412_0_250980_0_105882_0_000000.material', 'picturepalace.gltf.import', 'Ireby', 'picturehouse.glb', 'parse3ddmp.py', 'dukest1resurvey2009.gltf.import', 'DukeStResurvey-drawnup-p3.jpg.import', 'picturepalace2.gltf.import', 'notes.txt', 'convertdmptotunnelvrjson.py', 'DukeStResurvey-drawnup-p3.jpg', '0_372549_0_654902_0_239216_0_000000.material', '0_768627_0_886275_0_952941_0_000000.material', 'LambTrap1.json', '0_231373_0_380392_0_705882_0_000000.material']\n"
     ]
    }
   ],
   "source": [
    "import os\n",
    "print(os.listdir())"
   ]
  },
  {
   "cell_type": "code",
   "execution_count": 7,
   "metadata": {},
   "outputs": [],
   "source": [
    "from parse3ddmp import DMP3d\n",
    "\n",
    "fname = \"skirwith/skirwith-cave.3d\"\n",
    "dump3dexe = 'dump3d'\n",
    "\n",
    "dstream = os.popen(\"%s -d %s\" % (dump3dexe, fname))\n",
    "lines = dstream.readlines()\n",
    "dmp3d = DMP3d(lines)\n"
   ]
  },
  {
   "cell_type": "code",
   "execution_count": 8,
   "metadata": {},
   "outputs": [
    {
     "data": {
      "text/plain": [
       "'+init=epsg:27700 +no_defs'"
      ]
     },
     "execution_count": 8,
     "metadata": {},
     "output_type": "execute_result"
    }
   ],
   "source": [
    "dmp3d.cs"
   ]
  },
  {
   "cell_type": "code",
   "execution_count": 14,
   "metadata": {},
   "outputs": [
    {
     "data": {
      "text/plain": [
       "(-2.4445880673413165, 54.15853521413708)"
      ]
     },
     "execution_count": 14,
     "metadata": {},
     "output_type": "execute_result"
    }
   ],
   "source": [
    "import pyproj\n",
    "proj = pyproj.Proj(dmp3d.cs)\n",
    "proj(370971.19, 473746.38, inverse=True)\n"
   ]
  },
  {
   "cell_type": "code",
   "execution_count": 11,
   "metadata": {},
   "outputs": [
    {
     "data": {
      "text/plain": [
       "(P3(370971.19, 473746.38, 259.43),\n",
       " P3(370969.28, 473746.58, 259.1),\n",
       " 'skirwith-cave.skirwith-upper-entrance-1',\n",
       " 'NORMAL',\n",
       " [],\n",
       " datetime.datetime(2021, 4, 12, 0, 0))"
      ]
     },
     "execution_count": 11,
     "metadata": {},
     "output_type": "execute_result"
    }
   ],
   "source": [
    "leglines = [line  for line in dmp3d.lines  if line[0] != line[1] and \"SURFACE\" not in line[4]]\n",
    "len(leglines)\n",
    "leg = leglines[0]\n",
    "leg"
   ]
  },
  {
   "cell_type": "code",
   "execution_count": 12,
   "metadata": {},
   "outputs": [
    {
     "data": {
      "text/plain": [
       "['GetXSectionFacts',\n",
       " 'GetXSectionQuadHedron',\n",
       " 'GetXSectionQuadHedronP',\n",
       " 'PassagesLength',\n",
       " 'PassagesVolume',\n",
       " '__class__',\n",
       " '__delattr__',\n",
       " '__dict__',\n",
       " '__dir__',\n",
       " '__doc__',\n",
       " '__eq__',\n",
       " '__format__',\n",
       " '__ge__',\n",
       " '__getattribute__',\n",
       " '__gt__',\n",
       " '__hash__',\n",
       " '__init__',\n",
       " '__init_subclass__',\n",
       " '__le__',\n",
       " '__lt__',\n",
       " '__module__',\n",
       " '__ne__',\n",
       " '__new__',\n",
       " '__reduce__',\n",
       " '__reduce_ex__',\n",
       " '__repr__',\n",
       " '__setattr__',\n",
       " '__sizeof__',\n",
       " '__str__',\n",
       " '__subclasshook__',\n",
       " '__weakref__',\n",
       " 'cs',\n",
       " 'datenumeric',\n",
       " 'headdate',\n",
       " 'lines',\n",
       " 'nmapnodes',\n",
       " 'nodepmap',\n",
       " 'nodes',\n",
       " 'printreport',\n",
       " 'title',\n",
       " 'xsects']"
      ]
     },
     "execution_count": 12,
     "metadata": {},
     "output_type": "execute_result"
    }
   ],
   "source": [
    "dir(dmp3d)"
   ]
  },
  {
   "cell_type": "code",
   "execution_count": null,
   "metadata": {},
   "outputs": [],
   "source": []
  },
  {
   "cell_type": "code",
   "execution_count": null,
   "metadata": {},
   "outputs": [],
   "source": []
  },
  {
   "cell_type": "code",
   "execution_count": 1,
   "metadata": {},
   "outputs": [],
   "source": [
    "from parse3ddmp import DMP3d\n",
    "import os\n",
    "\n",
    "dump3dexe = '\"C:\\\\Program Files (x86)\\\\Survex\\\\dump3d.exe\"'\n",
    "fname = \"dukest1resurvey2009.3d\"\n",
    "fjson = \"dukest1resurvey2009.json\"\n",
    "fname = \"cusseypot\\\\Cussey_Pot_Master.3d\"\n",
    "fjson = \"cusseypot\\\\Cussey_Pot_Master.json\"\n",
    "fname = \"cusseypot\\\\skirwith-cave.3d\"\n",
    "\n",
    "dstream = os.popen(\"%s -d %s\" % (dump3dexe, fname))\n",
    "lines = dstream.readlines()\n",
    "dmp3d = DMP3d(lines)\n",
    "\n",
    "\"\"\"\n",
    "    self.nodepmap = { }   # { p: ([names], [flagsconsolidated] }  \n",
    "    self.nodes = [ ]      # [ (p, name, [flags]) ]   (not strictly necessary, except to get entrance name before flagconsolidation)\n",
    "    self.lines = [ ]      # [ (prevp, p, name, style, [flags], date) ]\n",
    "    self.xsects = [ [ ] ] # [ [ (name, lrud) ] ]\n",
    "    self.nmapnodes = { }  # { name: p } (derived from nodepmap, needed for xsects)\n",
    "\"\"\";"
   ]
  },
  {
   "cell_type": "code",
   "execution_count": 2,
   "metadata": {},
   "outputs": [
    {
     "data": {
      "text/plain": [
       "169854"
      ]
     },
     "execution_count": 2,
     "metadata": {},
     "output_type": "execute_result"
    }
   ],
   "source": [
    "from parse3ddmp import P3\n",
    "import json\n",
    "\n",
    "leglines = [line  for line in dmp3d.lines  if line[0] != line[1] and \"SURFACE\" not in line[4]]\n",
    "xsects = [xsect  for xsect in dmp3d.xsects  if len(xsect) >= 2]\n",
    "\n",
    "assert not dmp3d.cs, \"We need to convert from absolute coords in this case\"\n",
    "\n",
    "# points as triples\n",
    "stationpoints = set()\n",
    "stationpoints.update(line[0]  for line in leglines)\n",
    "stationpoints.update(line[1]  for line in leglines)\n",
    "stationpoints = list(stationpoints)\n",
    "stationpoints.sort(key=lambda X: (X[2], X[0], X[1]))\n",
    "\n",
    "# centralize the sketch\n",
    "def rangerat(ps, i, maxfac):\n",
    "    return (1-maxfac)*min(p[i]  for p in ps) + maxfac*max(p[i]  for p in ps)\n",
    "svxp0 = P3(rangerat(stationpoints, 0, 0.5), rangerat(stationpoints, 1, 0.5), rangerat(stationpoints, 2, 1.0))\n",
    "\n",
    "stationpointsdict = dict((p, i)  for i, p in enumerate(stationpoints))\n",
    "stationpointscoords = sum((tuple(stationpoint - svxp0)  for stationpoint in stationpoints), ())\n",
    "stationpointsnames = [ dmp3d.nodepmap[stationpoint][0][0]  for stationpoint in stationpoints ]\n",
    "legsconnections = sum(((stationpointsdict[legline[0]], stationpointsdict[legline[1]])  for legline in leglines), ())\n",
    "legsconnections = sum(((stationpointsdict[legline[0]], stationpointsdict[legline[1]])  for legline in leglines), ())\n",
    "legsstyles = [ legline[3]  for legline in leglines ]\n",
    "\n",
    "xsectgps = [ ]\n",
    "for xsectseq in xsects:\n",
    "    xsectpoints = [dmp3d.nmapnodes[xs[0]]  for xs in xsectseq]\n",
    "    xsectindexes = [ stationpointsdict[xsectpoint]  for xsectpoint in xsectpoints ]\n",
    "    xsectrightvecs = [ ]\n",
    "    for i in range(len(xsectpoints)):\n",
    "        pback = xsectpoints[max(0, i-1)]\n",
    "        p = xsectpoints[i]\n",
    "        pfore = xsectpoints[min(len(xsectpoints)-1, i+1)]\n",
    "        vback = P3.ZNorm(P3(p.x - pback.x, p.y - pback.y, 0.0))\n",
    "        vfore = P3.ZNorm(P3(pfore.x - p.x, pfore.y - p.y, 0.0))\n",
    "        xsectplanevec = P3.ZNorm(vback + vfore)\n",
    "        xsectrightvecs.append(xsectplanevec[1])\n",
    "        xsectrightvecs.append(-xsectplanevec[0])\n",
    "    xsectrightvecs\n",
    "    xsectlruds = sum((xs[1]  for xs in xsectseq), ())\n",
    "    xsectlruds\n",
    "    xsectgps.append({ \"xsectindexes\":xsectindexes, \"xsectrightvecs\":xsectrightvecs, \"xsectlruds\":xsectlruds })\n",
    "xsectgps\n",
    "\n",
    "jrec = { \"stationpointscoords\": stationpointscoords,\n",
    "         \"stationpointsnames\":  stationpointsnames, \n",
    "         \"legsconnections\":     legsconnections,\n",
    "         \"legsstyles\":          legsstyles, \n",
    "         \"xsectgps\":            xsectgps\n",
    "       }\n",
    "print(\" \".join(\"%s:%d\"%(k, len(v))  for k, v in jrec.items()))\n",
    "open(fjson, \"w\").write(json.dumps(jrec))"
   ]
  }
 ],
 "metadata": {
  "kernelspec": {
   "display_name": "Python 3",
   "language": "python",
   "name": "python3"
  },
  "language_info": {
   "codemirror_mode": {
    "name": "ipython",
    "version": 3
   },
   "file_extension": ".py",
   "mimetype": "text/x-python",
   "name": "python",
   "nbconvert_exporter": "python",
   "pygments_lexer": "ipython3",
   "version": "3.7.4"
  }
 },
 "nbformat": 4,
 "nbformat_minor": 4
}
