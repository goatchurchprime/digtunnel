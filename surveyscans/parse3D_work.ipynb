{
 "cells": [
  {
   "cell_type": "code",
   "execution_count": 4,
   "metadata": {},
   "outputs": [
    {
     "name": "stdout",
     "output_type": "stream",
     "text": [
      "['.ipynb_checkpoints', 'dukest1resurvey2009.3d', 'dukest1resurvey2009.gltf', 'dukest1resurvey2009.gltf.import', 'dukest1resurvey2009.js', 'dukest1resurvey2009.tscn', 'DukeStResurvey-drawnup-p3.jpg', 'DukeStResurvey-drawnup-p3.jpg.import', 'parse3ddmp.py', 'parse3D_work.ipynb', '__pycache__']\n"
     ]
    }
   ],
   "source": [
    "print(os.listdir())"
   ]
  },
  {
   "cell_type": "code",
   "execution_count": 7,
   "metadata": {},
   "outputs": [],
   "source": [
    "from parse3ddmp import DMP3d\n",
    "import os\n",
    "\n",
    "dump3dexe = '\"C:\\\\Program Files (x86)\\\\Survex\\\\dump3d.exe\"'\n",
    "fname = \"dukest1resurvey2009.3d\"\n",
    "dstream = os.popen(\"%s -d %s\" % (dump3dexe, fname))\n",
    "lines = dstream.readlines()\n",
    "dmp3d = DMP3d(lines)\n",
    "\n",
    "\"\"\"\n",
    "    self.nodepmap = { }   # { p: ([names], [flagsconsolidated] }  \n",
    "    self.nodes = [ ]      # [ (p, name, [flags]) ]   (not strictly necessary, except to get entrance name before flagconsolidation)\n",
    "    self.lines = [ ]      # [ (prevp, p, name, style, [flags], date) ]\n",
    "    self.xsects = [ [ ] ] # [ [ (name, lrud) ] ]\n",
    "    self.nmapnodes = { }  # { name: p } (derived from nodepmap, needed for xsects)\n",
    "\"\"\";"
   ]
  },
  {
   "cell_type": "code",
   "execution_count": 66,
   "metadata": {},
   "outputs": [
    {
     "data": {
      "text/plain": [
       "3466"
      ]
     },
     "execution_count": 66,
     "metadata": {},
     "output_type": "execute_result"
    }
   ],
   "source": [
    "from parse3ddmp import P3\n",
    "import json\n",
    "\n",
    "leglines = [line  for line in dmp3d.lines  if line[0] != line[1] and \"SURFACE\" not in line[4]]\n",
    "xsects = [xsect  for xsect in dmp3d.xsects  if len(xsect) >= 2]\n",
    "\n",
    "assert not dmp3d.cs, \"We need to convert from absolute coords in this case\"\n",
    "\n",
    "# points as triples\n",
    "stationpoints = set()\n",
    "stationpoints.update(line[0]  for line in leglines)\n",
    "stationpoints.update(line[1]  for line in leglines)\n",
    "stationpoints = list(stationpoints)\n",
    "stationpoints.sort(key=lambda X: (X[2], X[0], X[1]))\n",
    "\n",
    "# centralize the sketch\n",
    "def rangerat(ps, i, maxfac):\n",
    "    return (1-maxfac)*min(p[i]  for p in ps) + maxfac*max(p[i]  for p in ps)\n",
    "svxp0 = P3(rangerat(stationpoints, 0, 0.5), rangerat(stationpoints, 1, 0.5), rangerat(stationpoints, 2, 1.0))\n",
    "\n",
    "stationpointsdict = dict((p, i)  for i, p in enumerate(stationpoints))\n",
    "stationpointscoords = sum((tuple(stationpoint - svxp0)  for stationpoint in stationpoints), ())\n",
    "stationpointsnames = [ dmp3d.nodepmap[stationpoint][0][0]  for stationpoint in stationpoints ]\n",
    "legsconnections = sum(((stationpointsdict[legline[0]], stationpointsdict[legline[1]])  for legline in leglines), ())\n",
    "legsconnections = sum(((stationpointsdict[legline[0]], stationpointsdict[legline[1]])  for legline in leglines), ())\n",
    "legsstyles = [ legline[3]  for legline in leglines ]\n",
    "\n",
    "xsectgps = [ ]\n",
    "for xsectseq in xsects:\n",
    "    xsectpoints = [dmp3d.nmapnodes[xs[0]]  for xs in xsectseq]\n",
    "    xsectindexes = [ stationpointsdict[xsectpoint]  for xsectpoint in xsectpoints ]\n",
    "    xsectrightvecs = [ ]\n",
    "    for i in range(len(xsectpoints)):\n",
    "        pback = xsectpoints[max(0, i-1)]\n",
    "        p = xsectpoints[i]\n",
    "        pfore = xsectpoints[min(len(xsectpoints)-1, i+1)]\n",
    "        vback = P3.ZNorm(P3(p.x - pback.x, p.y - pback.y, 0.0))\n",
    "        vfore = P3.ZNorm(P3(pfore.x - p.x, pfore.y - p.y, 0.0))\n",
    "        xsectplanevec = P3.ZNorm(vback + vfore)\n",
    "        xsectrightvecs.append(xsectplanevec[1])\n",
    "        xsectrightvecs.append(-xsectplanevec[0])\n",
    "    xsectrightvecs\n",
    "    xsectlruds = sum((xs[1]  for xs in xsectseq), ())\n",
    "    xsectlruds\n",
    "    xsectgps.append({ \"xsectindexes\":xsectindexes, \"xsectrightvecs\":xsectrightvecs, \"xsectlruds\":xsectlruds })\n",
    "xsectgps\n",
    "\n",
    "jrec = { \"stationpointscoords\": stationpointscoords,\n",
    "         \"stationpointsnames\":  stationpointsnames, \n",
    "         \"legsconnections\":     legsconnections,\n",
    "         \"legsstyles\":          legsstyles, \n",
    "         \"xsectgps\":            xsectgps\n",
    "       }\n",
    "\n",
    "open(\"dukest1resurvey2009.json\", \"w\").write(json.dumps(jrec))"
   ]
  },
  {
   "cell_type": "code",
   "execution_count": 67,
   "metadata": {},
   "outputs": [
    {
     "data": {
      "text/plain": [
       "[P3(-11.7, 20.26, -0.82),\n",
       " P3(0.0, 0.0, 0.0),\n",
       " P3(10.04, -17.4, 0.0),\n",
       " P3(29.34, -12.94, 0.69),\n",
       " P3(45.02, -8.45, 0.69),\n",
       " P3(73.05, -21.52, 1.23),\n",
       " P3(92.46, -29.75, 1.23),\n",
       " P3(101.15, -48.4, 1.23),\n",
       " P3(130.17, -54.84, 1.38),\n",
       " P3(142.58, -66.01, 1.38),\n",
       " P3(111.11, -45.92, 1.59),\n",
       " P3(149.88, -79.74, 1.92),\n",
       " P3(163.77, -85.64, 2.19),\n",
       " P3(118.43, -45.67, 2.49),\n",
       " P3(118.43, -45.67, 3.21),\n",
       " P3(178.89, -93.4, 3.94),\n",
       " P3(171.55, -84.96, 4.13),\n",
       " P3(216.94, -111.11, 4.58),\n",
       " P3(191.37, -94.28, 5.25),\n",
       " P3(45.66, -11.42, 5.38),\n",
       " P3(209.13, -110.83, 5.68)]"
      ]
     },
     "execution_count": 67,
     "metadata": {},
     "output_type": "execute_result"
    }
   ],
   "source": [
    "stationpoints"
   ]
  },
  {
   "cell_type": "code",
   "execution_count": null,
   "metadata": {},
   "outputs": [],
   "source": []
  }
 ],
 "metadata": {
  "kernelspec": {
   "display_name": "Python 3",
   "language": "python",
   "name": "python3"
  },
  "language_info": {
   "codemirror_mode": {
    "name": "ipython",
    "version": 3
   },
   "file_extension": ".py",
   "mimetype": "text/x-python",
   "name": "python",
   "nbconvert_exporter": "python",
   "pygments_lexer": "ipython3",
   "version": "3.7.6"
  }
 },
 "nbformat": 4,
 "nbformat_minor": 4
}
