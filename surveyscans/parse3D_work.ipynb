{
 "cells": [
  {
   "cell_type": "code",
   "execution_count": 17,
   "metadata": {},
   "outputs": [],
   "source": []
  },
  {
   "cell_type": "code",
   "execution_count": null,
   "metadata": {},
   "outputs": [],
   "source": []
  },
  {
   "cell_type": "code",
   "execution_count": 39,
   "metadata": {},
   "outputs": [
    {
     "name": "stdout",
     "output_type": "stream",
     "text": [
      "/home/julian/Pictures/skirwith/S55.JPG /home/julian/Pictures/skirwith/ms55.jpg s55\n",
      "/home/julian/Pictures/skirwith/S56.JPG /home/julian/Pictures/skirwith/ms56.jpg s56\n",
      "/home/julian/Pictures/skirwith/S51.JPG /home/julian/Pictures/skirwith/ms51.jpg s51\n",
      "/home/julian/Pictures/skirwith/S48.JPG /home/julian/Pictures/skirwith/ms48.jpg s48\n",
      "/home/julian/Pictures/skirwith/S33.JPG /home/julian/Pictures/skirwith/ms33.jpg s33\n",
      "/home/julian/Pictures/skirwith/S4.JPG /home/julian/Pictures/skirwith/ms4.jpg s4\n",
      "/home/julian/Pictures/skirwith/S83.JPG /home/julian/Pictures/skirwith/ms83.jpg s83\n",
      "/home/julian/Pictures/skirwith/S1.JPG /home/julian/Pictures/skirwith/ms1.jpg s1\n",
      "/home/julian/Pictures/skirwith/S25.JPG /home/julian/Pictures/skirwith/ms25.jpg s25\n",
      "/home/julian/Pictures/skirwith/S70a.JPG /home/julian/Pictures/skirwith/ms70a.jpg s70a\n",
      "/home/julian/Pictures/skirwith/S40.JPG /home/julian/Pictures/skirwith/ms40.jpg s40\n",
      "/home/julian/Pictures/skirwith/S11.JPG /home/julian/Pictures/skirwith/ms11.jpg s11\n",
      "/home/julian/Pictures/skirwith/S17.JPG /home/julian/Pictures/skirwith/ms17.jpg s17\n",
      "/home/julian/Pictures/skirwith/S12.JPG /home/julian/Pictures/skirwith/ms12.jpg s12\n",
      "/home/julian/Pictures/skirwith/S46a.JPG /home/julian/Pictures/skirwith/ms46a.jpg s46a\n",
      "/home/julian/Pictures/skirwith/S16.JPG /home/julian/Pictures/skirwith/ms16.jpg s16\n",
      "/home/julian/Pictures/skirwith/S76.JPG /home/julian/Pictures/skirwith/ms76.jpg s76\n",
      "/home/julian/Pictures/skirwith/S53.JPG /home/julian/Pictures/skirwith/ms53.jpg s53\n",
      "/home/julian/Pictures/skirwith/S52.JPG /home/julian/Pictures/skirwith/ms52.jpg s52\n",
      "/home/julian/Pictures/skirwith/S31.JPG /home/julian/Pictures/skirwith/ms31.jpg s31\n",
      "/home/julian/Pictures/skirwith/S80.JPG /home/julian/Pictures/skirwith/ms80.jpg s80\n",
      "/home/julian/Pictures/skirwith/S37.JPG /home/julian/Pictures/skirwith/ms37.jpg s37\n",
      "/home/julian/Pictures/skirwith/S36.JPG /home/julian/Pictures/skirwith/ms36.jpg s36\n",
      "/home/julian/Pictures/skirwith/S77.JPG /home/julian/Pictures/skirwith/ms77.jpg s77\n",
      "/home/julian/Pictures/skirwith/S78.JPG /home/julian/Pictures/skirwith/ms78.jpg s78\n",
      "/home/julian/Pictures/skirwith/S39.JPG /home/julian/Pictures/skirwith/ms39.jpg s39\n",
      "/home/julian/Pictures/skirwith/S62.JPG /home/julian/Pictures/skirwith/ms62.jpg s62\n",
      "/home/julian/Pictures/skirwith/S35.JPG /home/julian/Pictures/skirwith/ms35.jpg s35\n",
      "/home/julian/Pictures/skirwith/S6.JPG /home/julian/Pictures/skirwith/ms6.jpg s6\n",
      "/home/julian/Pictures/skirwith/S28.JPG /home/julian/Pictures/skirwith/ms28.jpg s28\n",
      "/home/julian/Pictures/skirwith/S18.JPG /home/julian/Pictures/skirwith/ms18.jpg s18\n",
      "/home/julian/Pictures/skirwith/S59.JPG /home/julian/Pictures/skirwith/ms59.jpg s59\n",
      "/home/julian/Pictures/skirwith/S42.JPG /home/julian/Pictures/skirwith/ms42.jpg s42\n",
      "/home/julian/Pictures/skirwith/S67.JPG /home/julian/Pictures/skirwith/ms67.jpg s67\n",
      "/home/julian/Pictures/skirwith/S74.JPG /home/julian/Pictures/skirwith/ms74.jpg s74\n",
      "/home/julian/Pictures/skirwith/S12a.JPG /home/julian/Pictures/skirwith/ms12a.jpg s12a\n",
      "/home/julian/Pictures/skirwith/S9.JPG /home/julian/Pictures/skirwith/ms9.jpg s9\n",
      "/home/julian/Pictures/skirwith/S60.JPG /home/julian/Pictures/skirwith/ms60.jpg s60\n",
      "/home/julian/Pictures/skirwith/S45.JPG /home/julian/Pictures/skirwith/ms45.jpg s45\n",
      "/home/julian/Pictures/skirwith/S48a.JPG /home/julian/Pictures/skirwith/ms48a.jpg s48a\n",
      "/home/julian/Pictures/skirwith/S10.JPG /home/julian/Pictures/skirwith/ms10.jpg s10\n",
      "/home/julian/Pictures/skirwith/S34.JPG /home/julian/Pictures/skirwith/ms34.jpg s34\n",
      "/home/julian/Pictures/skirwith/S21.JPG /home/julian/Pictures/skirwith/ms21.jpg s21\n",
      "/home/julian/Pictures/skirwith/S86.JPG /home/julian/Pictures/skirwith/ms86.jpg s86\n",
      "/home/julian/Pictures/skirwith/S66.JPG /home/julian/Pictures/skirwith/ms66.jpg s66\n",
      "/home/julian/Pictures/skirwith/S64.JPG /home/julian/Pictures/skirwith/ms64.jpg s64\n",
      "/home/julian/Pictures/skirwith/S41.JPG /home/julian/Pictures/skirwith/ms41.jpg s41\n",
      "/home/julian/Pictures/skirwith/S85.JPG /home/julian/Pictures/skirwith/ms85.jpg s85\n",
      "/home/julian/Pictures/skirwith/S44.JPG /home/julian/Pictures/skirwith/ms44.jpg s44\n",
      "/home/julian/Pictures/skirwith/S84.JPG /home/julian/Pictures/skirwith/ms84.jpg s84\n",
      "/home/julian/Pictures/skirwith/S49.JPG /home/julian/Pictures/skirwith/ms49.jpg s49\n",
      "/home/julian/Pictures/skirwith/S14.JPG /home/julian/Pictures/skirwith/ms14.jpg s14\n",
      "/home/julian/Pictures/skirwith/S23.JPG /home/julian/Pictures/skirwith/ms23.jpg s23\n",
      "/home/julian/Pictures/skirwith/S15.JPG /home/julian/Pictures/skirwith/ms15.jpg s15\n",
      "/home/julian/Pictures/skirwith/S26.JPG /home/julian/Pictures/skirwith/ms26.jpg s26\n",
      "/home/julian/Pictures/skirwith/S73.JPG /home/julian/Pictures/skirwith/ms73.jpg s73\n",
      "/home/julian/Pictures/skirwith/S81.JPG /home/julian/Pictures/skirwith/ms81.jpg s81\n",
      "/home/julian/Pictures/skirwith/S69.JPG /home/julian/Pictures/skirwith/ms69.jpg s69\n",
      "/home/julian/Pictures/skirwith/S43.JPG /home/julian/Pictures/skirwith/ms43.jpg s43\n",
      "/home/julian/Pictures/skirwith/S65.JPG /home/julian/Pictures/skirwith/ms65.jpg s65\n",
      "/home/julian/Pictures/skirwith/S54.JPG /home/julian/Pictures/skirwith/ms54.jpg s54\n",
      "/home/julian/Pictures/skirwith/S32.JPG /home/julian/Pictures/skirwith/ms32.jpg s32\n",
      "/home/julian/Pictures/skirwith/S44a.JPG /home/julian/Pictures/skirwith/ms44a.jpg s44a\n",
      "/home/julian/Pictures/skirwith/S19.JPG /home/julian/Pictures/skirwith/ms19.jpg s19\n",
      "/home/julian/Pictures/skirwith/S2.JPG /home/julian/Pictures/skirwith/ms2.jpg s2\n",
      "/home/julian/Pictures/skirwith/S22.JPG /home/julian/Pictures/skirwith/ms22.jpg s22\n",
      "/home/julian/Pictures/skirwith/S10a.JPG /home/julian/Pictures/skirwith/ms10a.jpg s10a\n",
      "/home/julian/Pictures/skirwith/S24.JPG /home/julian/Pictures/skirwith/ms24.jpg s24\n",
      "/home/julian/Pictures/skirwith/S85a Sump line anchor survey station.JPG /home/julian/Pictures/skirwith/ms85a sump line anchor survey station.jpg s85a sump line anchor survey station\n",
      "/home/julian/Pictures/skirwith/S3.JPG /home/julian/Pictures/skirwith/ms3.jpg s3\n",
      "/home/julian/Pictures/skirwith/S38.JPG /home/julian/Pictures/skirwith/ms38.jpg s38\n",
      "/home/julian/Pictures/skirwith/S73a.JPG /home/julian/Pictures/skirwith/ms73a.jpg s73a\n",
      "/home/julian/Pictures/skirwith/S46.JPG /home/julian/Pictures/skirwith/ms46.jpg s46\n",
      "/home/julian/Pictures/skirwith/S57.JPG /home/julian/Pictures/skirwith/ms57.jpg s57\n",
      "/home/julian/Pictures/skirwith/S72.JPG /home/julian/Pictures/skirwith/ms72.jpg s72\n",
      "/home/julian/Pictures/skirwith/S68.JPG /home/julian/Pictures/skirwith/ms68.jpg s68\n",
      "/home/julian/Pictures/skirwith/S31a.JPG /home/julian/Pictures/skirwith/ms31a.jpg s31a\n",
      "/home/julian/Pictures/skirwith/S5.JPG /home/julian/Pictures/skirwith/ms5.jpg s5\n",
      "/home/julian/Pictures/skirwith/S71.JPG /home/julian/Pictures/skirwith/ms71.jpg s71\n",
      "/home/julian/Pictures/skirwith/S13.JPG /home/julian/Pictures/skirwith/ms13.jpg s13\n",
      "/home/julian/Pictures/skirwith/S7.JPG /home/julian/Pictures/skirwith/ms7.jpg s7\n",
      "/home/julian/Pictures/skirwith/S58.JPG /home/julian/Pictures/skirwith/ms58.jpg s58\n",
      "/home/julian/Pictures/skirwith/S29.JPG /home/julian/Pictures/skirwith/ms29.jpg s29\n",
      "/home/julian/Pictures/skirwith/S8.JPG /home/julian/Pictures/skirwith/ms8.jpg s8\n",
      "/home/julian/Pictures/skirwith/S50.JPG /home/julian/Pictures/skirwith/ms50.jpg s50\n",
      "/home/julian/Pictures/skirwith/S27.JPG /home/julian/Pictures/skirwith/ms27.jpg s27\n",
      "/home/julian/Pictures/skirwith/S10b.JPG /home/julian/Pictures/skirwith/ms10b.jpg s10b\n",
      "/home/julian/Pictures/skirwith/S75.JPG /home/julian/Pictures/skirwith/ms75.jpg s75\n",
      "/home/julian/Pictures/skirwith/S63.JPG /home/julian/Pictures/skirwith/ms63.jpg s63\n",
      "/home/julian/Pictures/skirwith/S30.JPG /home/julian/Pictures/skirwith/ms30.jpg s30\n",
      "/home/julian/Pictures/skirwith/S47.JPG /home/julian/Pictures/skirwith/ms47.jpg s47\n",
      "/home/julian/Pictures/skirwith/S20.JPG /home/julian/Pictures/skirwith/ms20.jpg s20\n",
      "/home/julian/Pictures/skirwith/S79.JPG /home/julian/Pictures/skirwith/ms79.jpg s79\n",
      "/home/julian/Pictures/skirwith/S70.JPG /home/julian/Pictures/skirwith/ms70.jpg s70\n"
     ]
    }
   ],
   "source": [
    "# convert P4180072.JPG -resize 600   -fill '#0005' -draw 'rectangle 0,0,214,45' -fill white -pointsize 42  -annotate +10+41 'Station 1' P4180072-small3.JPG\n",
    "\n",
    "# script for over-drawing the survey station names onto the images and shrinking them\n",
    "import os, subprocess, re\n",
    "fdir = \"/home/julian/Pictures/skirwith\"\n",
    "for fname in os.listdir(fdir):\n",
    "    m = re.match(\"S(\\d+)\", fname)\n",
    "    mfname, extname = os.path.splitext(fname)\n",
    "    if m:\n",
    "        mfname, extname = os.path.splitext(fname)\n",
    "        fnamein = os.path.join(fdir, fname)\n",
    "        fnameout = os.path.join(fdir, \"m\"+fname.lower())\n",
    "        msg = mfname.lower()\n",
    "        print(fnamein, fnameout, msg)\n",
    "        pargs = [\"convert\", fnamein, \"-resize\", \"600\", \"-fill\", '#0005', \"-draw\", 'rectangle 0,0,144,45',\n",
    "                 \"-fill\", \"white\", \"-pointsize\", \"42\", \"-annotate\", \"+10+41\", msg, fnameout]\n",
    "        x = subprocess.run(pargs, capture_output=True)\n"
   ]
  },
  {
   "cell_type": "code",
   "execution_count": null,
   "metadata": {},
   "outputs": [],
   "source": []
  },
  {
   "cell_type": "code",
   "execution_count": 2,
   "metadata": {},
   "outputs": [
    {
     "name": "stdout",
     "output_type": "stream",
     "text": [
      "['dukest1resurvey2009.json', 'smallirebysave.res', 'dukest1resurvey2009.tscn', '0_917647_0_917647_0_917647_0_000000.material', 'dukest1resurvey2009.3d', 'parse3D_work.ipynb', 'picturepalace2.gltf', 'LambTrap-drawnup-1.png', 'LargePot', '0_980392_0_713725_0_003922_0_000000.material', 'dukest1resurvey2009.gltf', 'scanimagefloor.material', 'skirwith', 'LambTrap-drawnup-1.png.import', '0_498039_0_498039_0_498039_0_000000.material', 'picturehouse.glb.import', '0_615686_0_811765_0_929412_0_000000.material', 'picturepalace.gltf', '.ipynb_checkpoints', 'wingform', '0_972549_0_529412_0_003922_0_000000.material', '0_647059_0_647059_0_647059_0_000000.material', '__pycache__', '0_729412_0_250980_0_105882_0_000000.material', 'picturepalace.gltf.import', 'Ireby', 'picturehouse.glb', 'parse3ddmp.py', 'dukest1resurvey2009.gltf.import', 'DukeStResurvey-drawnup-p3.jpg.import', 'picturepalace2.gltf.import', 'notes.txt', 'convertdmptotunnelvrjson.py', 'DukeStResurvey-drawnup-p3.jpg', '0_372549_0_654902_0_239216_0_000000.material', '0_768627_0_886275_0_952941_0_000000.material', 'LambTrap1.json', '0_231373_0_380392_0_705882_0_000000.material']\n"
     ]
    }
   ],
   "source": [
    "import os\n",
    "print(os.listdir())"
   ]
  },
  {
   "cell_type": "code",
   "execution_count": 7,
   "metadata": {},
   "outputs": [],
   "source": [
    "from parse3ddmp import DMP3d\n",
    "\n",
    "fname = \"skirwith/skirwith-cave.3d\"\n",
    "dump3dexe = 'dump3d'\n",
    "\n",
    "dstream = os.popen(\"%s -d %s\" % (dump3dexe, fname))\n",
    "lines = dstream.readlines()\n",
    "dmp3d = DMP3d(lines)\n"
   ]
  },
  {
   "cell_type": "code",
   "execution_count": 8,
   "metadata": {},
   "outputs": [
    {
     "data": {
      "text/plain": [
       "'+init=epsg:27700 +no_defs'"
      ]
     },
     "execution_count": 8,
     "metadata": {},
     "output_type": "execute_result"
    }
   ],
   "source": [
    "dmp3d.cs"
   ]
  },
  {
   "cell_type": "code",
   "execution_count": 14,
   "metadata": {},
   "outputs": [
    {
     "data": {
      "text/plain": [
       "(-2.4445880673413165, 54.15853521413708)"
      ]
     },
     "execution_count": 14,
     "metadata": {},
     "output_type": "execute_result"
    }
   ],
   "source": [
    "import pyproj\n",
    "proj = pyproj.Proj(dmp3d.cs)\n",
    "proj(370971.19, 473746.38, inverse=True)\n"
   ]
  },
  {
   "cell_type": "code",
   "execution_count": 11,
   "metadata": {},
   "outputs": [
    {
     "data": {
      "text/plain": [
       "(P3(370971.19, 473746.38, 259.43),\n",
       " P3(370969.28, 473746.58, 259.1),\n",
       " 'skirwith-cave.skirwith-upper-entrance-1',\n",
       " 'NORMAL',\n",
       " [],\n",
       " datetime.datetime(2021, 4, 12, 0, 0))"
      ]
     },
     "execution_count": 11,
     "metadata": {},
     "output_type": "execute_result"
    }
   ],
   "source": [
    "leglines = [line  for line in dmp3d.lines  if line[0] != line[1] and \"SURFACE\" not in line[4]]\n",
    "len(leglines)\n",
    "leg = leglines[0]\n",
    "leg"
   ]
  },
  {
   "cell_type": "code",
   "execution_count": 12,
   "metadata": {},
   "outputs": [
    {
     "data": {
      "text/plain": [
       "['GetXSectionFacts',\n",
       " 'GetXSectionQuadHedron',\n",
       " 'GetXSectionQuadHedronP',\n",
       " 'PassagesLength',\n",
       " 'PassagesVolume',\n",
       " '__class__',\n",
       " '__delattr__',\n",
       " '__dict__',\n",
       " '__dir__',\n",
       " '__doc__',\n",
       " '__eq__',\n",
       " '__format__',\n",
       " '__ge__',\n",
       " '__getattribute__',\n",
       " '__gt__',\n",
       " '__hash__',\n",
       " '__init__',\n",
       " '__init_subclass__',\n",
       " '__le__',\n",
       " '__lt__',\n",
       " '__module__',\n",
       " '__ne__',\n",
       " '__new__',\n",
       " '__reduce__',\n",
       " '__reduce_ex__',\n",
       " '__repr__',\n",
       " '__setattr__',\n",
       " '__sizeof__',\n",
       " '__str__',\n",
       " '__subclasshook__',\n",
       " '__weakref__',\n",
       " 'cs',\n",
       " 'datenumeric',\n",
       " 'headdate',\n",
       " 'lines',\n",
       " 'nmapnodes',\n",
       " 'nodepmap',\n",
       " 'nodes',\n",
       " 'printreport',\n",
       " 'title',\n",
       " 'xsects']"
      ]
     },
     "execution_count": 12,
     "metadata": {},
     "output_type": "execute_result"
    }
   ],
   "source": [
    "dir(dmp3d)"
   ]
  },
  {
   "cell_type": "code",
   "execution_count": null,
   "metadata": {},
   "outputs": [],
   "source": []
  },
  {
   "cell_type": "code",
   "execution_count": null,
   "metadata": {},
   "outputs": [],
   "source": []
  },
  {
   "cell_type": "code",
   "execution_count": 1,
   "metadata": {},
   "outputs": [],
   "source": [
    "from parse3ddmp import DMP3d\n",
    "import os\n",
    "\n",
    "dump3dexe = '\"C:\\\\Program Files (x86)\\\\Survex\\\\dump3d.exe\"'\n",
    "fname = \"dukest1resurvey2009.3d\"\n",
    "fjson = \"dukest1resurvey2009.json\"\n",
    "fname = \"cusseypot\\\\Cussey_Pot_Master.3d\"\n",
    "fjson = \"cusseypot\\\\Cussey_Pot_Master.json\"\n",
    "fname = \"cusseypot\\\\skirwith-cave.3d\"\n",
    "\n",
    "dstream = os.popen(\"%s -d %s\" % (dump3dexe, fname))\n",
    "lines = dstream.readlines()\n",
    "dmp3d = DMP3d(lines)\n",
    "\n",
    "\"\"\"\n",
    "    self.nodepmap = { }   # { p: ([names], [flagsconsolidated] }  \n",
    "    self.nodes = [ ]      # [ (p, name, [flags]) ]   (not strictly necessary, except to get entrance name before flagconsolidation)\n",
    "    self.lines = [ ]      # [ (prevp, p, name, style, [flags], date) ]\n",
    "    self.xsects = [ [ ] ] # [ [ (name, lrud) ] ]\n",
    "    self.nmapnodes = { }  # { name: p } (derived from nodepmap, needed for xsects)\n",
    "\"\"\";"
   ]
  },
  {
   "cell_type": "code",
   "execution_count": 2,
   "metadata": {},
   "outputs": [
    {
     "data": {
      "text/plain": [
       "169854"
      ]
     },
     "execution_count": 2,
     "metadata": {},
     "output_type": "execute_result"
    }
   ],
   "source": [
    "from parse3ddmp import P3\n",
    "import json\n",
    "\n",
    "leglines = [line  for line in dmp3d.lines  if line[0] != line[1] and \"SURFACE\" not in line[4]]\n",
    "xsects = [xsect  for xsect in dmp3d.xsects  if len(xsect) >= 2]\n",
    "\n",
    "assert not dmp3d.cs, \"We need to convert from absolute coords in this case\"\n",
    "\n",
    "# points as triples\n",
    "stationpoints = set()\n",
    "stationpoints.update(line[0]  for line in leglines)\n",
    "stationpoints.update(line[1]  for line in leglines)\n",
    "stationpoints = list(stationpoints)\n",
    "stationpoints.sort(key=lambda X: (X[2], X[0], X[1]))\n",
    "\n",
    "# centralize the sketch\n",
    "def rangerat(ps, i, maxfac):\n",
    "    return (1-maxfac)*min(p[i]  for p in ps) + maxfac*max(p[i]  for p in ps)\n",
    "svxp0 = P3(rangerat(stationpoints, 0, 0.5), rangerat(stationpoints, 1, 0.5), rangerat(stationpoints, 2, 1.0))\n",
    "\n",
    "stationpointsdict = dict((p, i)  for i, p in enumerate(stationpoints))\n",
    "stationpointscoords = sum((tuple(stationpoint - svxp0)  for stationpoint in stationpoints), ())\n",
    "stationpointsnames = [ dmp3d.nodepmap[stationpoint][0][0]  for stationpoint in stationpoints ]\n",
    "legsconnections = sum(((stationpointsdict[legline[0]], stationpointsdict[legline[1]])  for legline in leglines), ())\n",
    "legsconnections = sum(((stationpointsdict[legline[0]], stationpointsdict[legline[1]])  for legline in leglines), ())\n",
    "legsstyles = [ legline[3]  for legline in leglines ]\n",
    "\n",
    "xsectgps = [ ]\n",
    "for xsectseq in xsects:\n",
    "    xsectpoints = [dmp3d.nmapnodes[xs[0]]  for xs in xsectseq]\n",
    "    xsectindexes = [ stationpointsdict[xsectpoint]  for xsectpoint in xsectpoints ]\n",
    "    xsectrightvecs = [ ]\n",
    "    for i in range(len(xsectpoints)):\n",
    "        pback = xsectpoints[max(0, i-1)]\n",
    "        p = xsectpoints[i]\n",
    "        pfore = xsectpoints[min(len(xsectpoints)-1, i+1)]\n",
    "        vback = P3.ZNorm(P3(p.x - pback.x, p.y - pback.y, 0.0))\n",
    "        vfore = P3.ZNorm(P3(pfore.x - p.x, pfore.y - p.y, 0.0))\n",
    "        xsectplanevec = P3.ZNorm(vback + vfore)\n",
    "        xsectrightvecs.append(xsectplanevec[1])\n",
    "        xsectrightvecs.append(-xsectplanevec[0])\n",
    "    xsectrightvecs\n",
    "    xsectlruds = sum((xs[1]  for xs in xsectseq), ())\n",
    "    xsectlruds\n",
    "    xsectgps.append({ \"xsectindexes\":xsectindexes, \"xsectrightvecs\":xsectrightvecs, \"xsectlruds\":xsectlruds })\n",
    "xsectgps\n",
    "\n",
    "jrec = { \"stationpointscoords\": stationpointscoords,\n",
    "         \"stationpointsnames\":  stationpointsnames, \n",
    "         \"legsconnections\":     legsconnections,\n",
    "         \"legsstyles\":          legsstyles, \n",
    "         \"xsectgps\":            xsectgps\n",
    "       }\n",
    "print(\" \".join(\"%s:%d\"%(k, len(v))  for k, v in jrec.items()))\n",
    "open(fjson, \"w\").write(json.dumps(jrec))"
   ]
  }
 ],
 "metadata": {
  "kernelspec": {
   "display_name": "Python 3",
   "language": "python",
   "name": "python3"
  },
  "language_info": {
   "codemirror_mode": {
    "name": "ipython",
    "version": 3
   },
   "file_extension": ".py",
   "mimetype": "text/x-python",
   "name": "python",
   "nbconvert_exporter": "python",
   "pygments_lexer": "ipython3",
   "version": "3.7.4"
  }
 },
 "nbformat": 4,
 "nbformat_minor": 4
}
